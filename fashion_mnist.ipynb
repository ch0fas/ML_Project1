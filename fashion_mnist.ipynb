{
 "cells": [
  {
   "cell_type": "markdown",
   "id": "bf1629ec",
   "metadata": {},
   "source": [
    "___\n",
    "<img style=\"float: right; margin: 15px 15px 15px 15px;\" src=\"https://external-content.duckduckgo.com/iu/?u=https%3A%2F%2F4.bp.blogspot.com%2F-OQZGt_5WqDo%2FWa_Dfa4U15I%2FAAAAAAAAAUI%2FveRmAmUUKFA19dVw6XCOV2YLO6n-y_omwCLcBGAs%2Fs1600%2Fout.jpg&f=1&nofb=1&ipt=1dd6a02de0e3c13ae4585e7abf56f5191364c82f5f94af05007bc3e46a5d8866\" width=\"200px\" height=\"180px\" />\n",
    "\n",
    "\n",
    "# <font color= #bbc28d> **Fashion MNIST** </font>\n",
    "#### <font color= #2E9AFE> `Project 1 - Machine Learning`</font>\n",
    "- <Strong> Sofía Maldonado, Diana Valdivia, Samantha Sánchez, Isa Valladolid & Viviana Toledo </Strong>\n",
    "- <Strong> Fecha </Strong>: 21/09/2025.\n",
    "\n",
    "___\n",
    "\n",
    "<p style=\"text-align:right;\"> Image retrieved from: https://external-content.duckduckgo.com/iu/?u=https%3A%2F%2F4.bp.blogspot.com%2F-OQZGt_5WqDo%2FWa_Dfa4U15I%2FAAAAAAAAAUI%2FveRmAmUUKFA19dVw6XCOV2YLO6n-y_omwCLcBGAs%2Fs1600%2Fout.jpg&f=1&nofb=1&ipt=1dd6a02de0e3c13ae4585e7abf56f5191364c82f5f94af05007bc3e46a5d8866</p>"
   ]
  },
  {
   "cell_type": "markdown",
   "id": "ddea40d2",
   "metadata": {},
   "source": [
    "# <font color= #bbc28d> **Data Preprocessing** </font>"
   ]
  },
  {
   "cell_type": "code",
   "execution_count": 1,
   "id": "6fb73db6",
   "metadata": {},
   "outputs": [
    {
     "name": "stdout",
     "output_type": "stream",
     "text": [
      "WARNING:tensorflow:From c:\\Users\\Vivienne\\anaconda3\\envs\\iteso\\lib\\site-packages\\keras\\src\\losses.py:2976: The name tf.losses.sparse_softmax_cross_entropy is deprecated. Please use tf.compat.v1.losses.sparse_softmax_cross_entropy instead.\n",
      "\n"
     ]
    }
   ],
   "source": [
    "# Librerías Generales\n",
    "import numpy as np\n",
    "from tensorflow.keras import datasets\n",
    "\n",
    "# Gráficas\n",
    "import matplotlib.pyplot as plt\n",
    "import seaborn as sns\n",
    "\n",
    "# Preprocesamiento\n",
    "from sklearn.model_selection import train_test_split\n",
    "from sklearn.pipeline import Pipeline\n",
    "\n",
    "# Modelos\n",
    "from sklearn.model_selection import GridSearchCV\n",
    "from sklearn.neural_network import MLPClassifier\n",
    "from sklearn.ensemble import RandomForestClassifier\n",
    "from sklearn.ensemble import GradientBoostingClassifier\n",
    "from sklearn.linear_model import LogisticRegression\n",
    "\n",
    "# Métricas\n",
    "from sklearn.metrics import accuracy_score, precision_score, recall_score, f1_score, confusion_matrix, ConfusionMatrixDisplay\n",
    "\n",
    "# Pytorch CNN"
   ]
  },
  {
   "cell_type": "code",
   "execution_count": 7,
   "id": "930a9b96",
   "metadata": {},
   "outputs": [
    {
     "data": {
      "text/plain": [
       "((60000, 28, 28), (10000, 28, 28))"
      ]
     },
     "execution_count": 7,
     "metadata": {},
     "output_type": "execute_result"
    }
   ],
   "source": [
    "(X_train, y_train), (X_test, y_test) = datasets.fashion_mnist.load_data()\n",
    "\n",
    "X_train.shape, X_test.shape"
   ]
  },
  {
   "cell_type": "markdown",
   "id": "e57a1fbb",
   "metadata": {},
   "source": [
    "Contamos con 60,000 datos de entrenamiento y 10,000 datos de prueba"
   ]
  },
  {
   "cell_type": "markdown",
   "id": "d9358e96",
   "metadata": {},
   "source": [
    ">  \n",
    "> !! Quieren dividir en train-test-dev??? \n",
    ">  "
   ]
  },
  {
   "cell_type": "markdown",
   "id": "0c13d5eb",
   "metadata": {},
   "source": [
    "# <font color= #bbc28d> **Logistic Regression** </font>"
   ]
  },
  {
   "cell_type": "markdown",
   "id": "6c9ba577",
   "metadata": {},
   "source": [
    "# <font color= #bbc28d> **SVM** </font>"
   ]
  },
  {
   "cell_type": "markdown",
   "id": "308d91d9",
   "metadata": {},
   "source": [
    "# <font color= #bbc28d> **Random Forest Classifier** </font>"
   ]
  },
  {
   "cell_type": "markdown",
   "id": "b9cab6d2",
   "metadata": {},
   "source": [
    "# <font color= #bbc28d> **Multilayered Perceptron** </font>"
   ]
  },
  {
   "cell_type": "markdown",
   "id": "a39f7860",
   "metadata": {},
   "source": [
    "# <font color= #bbc28d> **Convolutional Neural Network** </font>"
   ]
  }
 ],
 "metadata": {
  "kernelspec": {
   "display_name": "iteso",
   "language": "python",
   "name": "python3"
  },
  "language_info": {
   "codemirror_mode": {
    "name": "ipython",
    "version": 3
   },
   "file_extension": ".py",
   "mimetype": "text/x-python",
   "name": "python",
   "nbconvert_exporter": "python",
   "pygments_lexer": "ipython3",
   "version": "3.10.14"
  }
 },
 "nbformat": 4,
 "nbformat_minor": 5
}
