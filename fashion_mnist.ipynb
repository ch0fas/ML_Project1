{
 "cells": [
  {
   "cell_type": "markdown",
   "id": "bf1629ec",
   "metadata": {},
   "source": [
    "___\n",
    "<img style=\"float: right; margin: 15px 15px 15px 15px;\" src=\"https://external-content.duckduckgo.com/iu/?u=https%3A%2F%2F4.bp.blogspot.com%2F-OQZGt_5WqDo%2FWa_Dfa4U15I%2FAAAAAAAAAUI%2FveRmAmUUKFA19dVw6XCOV2YLO6n-y_omwCLcBGAs%2Fs1600%2Fout.jpg&f=1&nofb=1&ipt=1dd6a02de0e3c13ae4585e7abf56f5191364c82f5f94af05007bc3e46a5d8866\" width=\"200px\" height=\"180px\" />\n",
    "\n",
    "\n",
    "# <font color= #bbc28d> **Fashion MNIST** </font>\n",
    "#### <font color= #2E9AFE> `Project 1 - Machine Learning`</font>\n",
    "- <Strong> Sofía Maldonado, Diana Valdivia, Samantha Sánchez, Isa Valladolid & Viviana Toledo </Strong>\n",
    "- <Strong> Fecha </Strong>: 21/09/2025.\n",
    "\n",
    "___\n",
    "\n",
    "<p style=\"text-align:right;\"> Imagen recuperada de: https://external-content.duckduckgo.com/iu/?u=https%3A%2F%2F4.bp.blogspot.com%2F-OQZGt_5WqDo%2FWa_Dfa4U15I%2FAAAAAAAAAUI%2FveRmAmUUKFA19dVw6XCOV2YLO6n-y_omwCLcBGAs%2Fs1600%2Fout.jpg&f=1&nofb=1&ipt=1dd6a02de0e3c13ae4585e7abf56f5191364c82f5f94af05007bc3e46a5d8866</p>"
   ]
  },
  {
   "cell_type": "markdown",
   "id": "ddea40d2",
   "metadata": {},
   "source": [
    "# <font color= #bbc28d> **Data Preprocessing** </font>"
   ]
  },
  {
   "cell_type": "markdown",
   "id": "0c13d5eb",
   "metadata": {},
   "source": [
    "# <font color= #bbc28d> **Logistic Regression** </font>"
   ]
  },
  {
   "cell_type": "markdown",
   "id": "6c9ba577",
   "metadata": {},
   "source": [
    "# <font color= #bbc28d> **SVM** </font>"
   ]
  },
  {
   "cell_type": "markdown",
   "id": "308d91d9",
   "metadata": {},
   "source": [
    "# <font color= #bbc28d> **Random Forest Classifier** </font>"
   ]
  },
  {
   "cell_type": "markdown",
   "id": "b9cab6d2",
   "metadata": {},
   "source": [
    "# <font color= #bbc28d> **Multilayered Perceptron** </font>"
   ]
  },
  {
   "cell_type": "markdown",
   "id": "a39f7860",
   "metadata": {},
   "source": [
    "# <font color= #bbc28d> **Convolutional Neural Network** </font>"
   ]
  }
 ],
 "metadata": {
  "language_info": {
   "name": "python"
  }
 },
 "nbformat": 4,
 "nbformat_minor": 5
}
